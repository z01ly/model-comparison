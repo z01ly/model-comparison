{
 "cells": [
  {
   "cell_type": "code",
   "execution_count": 1,
   "id": "263f181a",
   "metadata": {},
   "outputs": [],
   "source": [
    "# Based on https://github.com/ShengjiaZhao/MMD-Variational-Autoencoder/blob/master/mmd_vae.ipynb\n",
    "import torch\n",
    "from torch.autograd import Variable\n",
    "\n",
    "from torchvision.datasets import MNIST, FashionMNIST\n",
    "from torchvision import transforms\n",
    "\n",
    "import numpy as np\n",
    "from matplotlib import pyplot as plt\n",
    "import math, os"
   ]
  },
  {
   "cell_type": "code",
   "execution_count": 2,
   "id": "0ec4c8e1",
   "metadata": {},
   "outputs": [],
   "source": [
    "class Flatten(torch.nn.Module):\n",
    "    def forward(self, x):\n",
    "        return x.view(x.size(0), -1)\n",
    "    \n",
    "class Reshape(torch.nn.Module):\n",
    "    def __init__(self, outer_shape):\n",
    "        super(Reshape, self).__init__()\n",
    "        self.outer_shape = outer_shape\n",
    "    def forward(self, x):\n",
    "        return x.view(x.size(0), *self.outer_shape)"
   ]
  },
  {
   "cell_type": "code",
   "execution_count": 13,
   "id": "5623da33",
   "metadata": {},
   "outputs": [],
   "source": [
    "def get_flatten_output():\n",
    "    model1 = torch.nn.Sequential(\n",
    "        torch.nn.Conv2d(1, 64, 4, 2),\n",
    "        torch.nn.LeakyReLU()\n",
    "    )\n",
    "    v1 = model1(Variable(torch.rand(2,1,28,28)))\n",
    "    print(v1.size())\n",
    "    \n",
    "    model2 = torch.nn.Sequential(\n",
    "        torch.nn.Conv2d(64, 128, 4, 2),\n",
    "        torch.nn.LeakyReLU()\n",
    "    )\n",
    "    v2 = model2(v1)\n",
    "    print(v2.size())\n",
    "    \n",
    "    model3 = torch.nn.Sequential(\n",
    "        Flatten()\n",
    "    )\n",
    "    v3 = model3(v2)\n",
    "    print(v3.size())\n",
    "\n"
   ]
  },
  {
   "cell_type": "code",
   "execution_count": 14,
   "id": "ac92620b",
   "metadata": {},
   "outputs": [
    {
     "name": "stdout",
     "output_type": "stream",
     "text": [
      "torch.Size([2, 64, 13, 13])\n",
      "torch.Size([2, 128, 5, 5])\n",
      "torch.Size([2, 3200])\n"
     ]
    }
   ],
   "source": [
    "get_flatten_output()"
   ]
  },
  {
   "cell_type": "code",
   "execution_count": 19,
   "id": "be48db8f",
   "metadata": {},
   "outputs": [],
   "source": [
    "def get_reshape_output():\n",
    "    model1 = torch.nn.Sequential(\n",
    "        torch.nn.Linear(2, 1024),\n",
    "        torch.nn.ReLU(),\n",
    "        torch.nn.Linear(1024, 7*7*128),\n",
    "        torch.nn.ReLU(),\n",
    "        Reshape((128,7,7,))\n",
    "    )\n",
    "    v1 = model1(Variable(torch.rand(2, 2)))\n",
    "    print(v1.size())\n",
    "    \n",
    "    model2 = torch.nn.Sequential(\n",
    "        torch.nn.ConvTranspose2d(128, 64, 4, 2),\n",
    "        torch.nn.ReLU(),\n",
    "        torch.nn.ConvTranspose2d(64, 1, 4, 2, padding=3),\n",
    "        torch.nn.Sigmoid()\n",
    "    )\n",
    "    v2 = model2(v1)\n",
    "    print(v2.size())\n"
   ]
  },
  {
   "cell_type": "code",
   "execution_count": 20,
   "id": "28d6a643",
   "metadata": {},
   "outputs": [
    {
     "name": "stdout",
     "output_type": "stream",
     "text": [
      "torch.Size([2, 128, 7, 7])\n",
      "torch.Size([2, 1, 28, 28])\n"
     ]
    }
   ],
   "source": [
    "get_reshape_output()"
   ]
  },
  {
   "cell_type": "code",
   "execution_count": null,
   "id": "e354ae8c",
   "metadata": {},
   "outputs": [],
   "source": []
  }
 ],
 "metadata": {
  "kernelspec": {
   "display_name": "Python 3",
   "language": "python",
   "name": "python3"
  },
  "language_info": {
   "codemirror_mode": {
    "name": "ipython",
    "version": 3
   },
   "file_extension": ".py",
   "mimetype": "text/x-python",
   "name": "python",
   "nbconvert_exporter": "python",
   "pygments_lexer": "ipython3",
   "version": "3.9.2"
  }
 },
 "nbformat": 4,
 "nbformat_minor": 5
}
